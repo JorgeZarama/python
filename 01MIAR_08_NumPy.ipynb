{
  "cells": [
    {
      "cell_type": "markdown",
      "metadata": {
        "id": "view-in-github",
        "colab_type": "text"
      },
      "source": [
        "<a href=\"https://colab.research.google.com/github/JorgeZarama/python/blob/main/01MIAR_08_NumPy.ipynb\" target=\"_parent\"><img src=\"https://colab.research.google.com/assets/colab-badge.svg\" alt=\"Open In Colab\"/></a>"
      ]
    },
    {
      "cell_type": "markdown",
      "metadata": {
        "id": "KuDjr-N-EOZW"
      },
      "source": [
        "<img src=\"img/viu_logo.png\" width=\"200\">\n",
        "\n",
        "## 01MIAR - NumPy\n",
        "\n",
        "![logo](img/python_logo.png)\n",
        "\n",
        "*Ivan Fuertes*"
      ]
    },
    {
      "cell_type": "markdown",
      "metadata": {
        "id": "XlMiy2RLEOZZ"
      },
      "source": [
        "# NumPy ndarray\n",
        "- NumPy (__Num__ erical __Py__ thon) es la de facto librería estándar para análisis numérico en Python\n",
        "- Estructura de datos multidimensional eficiente (escrita en C): ndarray\n",
        "- Colección de funciones para álgebra lineal, estadística descriptiva\n",
        "- Ayuda al procesamiento de datos (np.where)"
      ]
    },
    {
      "cell_type": "code",
      "execution_count": 1,
      "metadata": {
        "tags": [],
        "id": "2y0-pZlnEOZZ"
      },
      "outputs": [],
      "source": [
        "#importar libreria\n",
        "import numpy as np"
      ]
    },
    {
      "cell_type": "markdown",
      "metadata": {
        "id": "Ndy-J1gkEOZa"
      },
      "source": [
        "## Performance Sample, NumPy vs Plain Python"
      ]
    },
    {
      "cell_type": "code",
      "execution_count": null,
      "metadata": {
        "tags": [],
        "colab": {
          "base_uri": "https://localhost:8080/"
        },
        "id": "6tYGeczYEOZb",
        "outputId": "e1090071-7d7f-4ced-f74a-b99efed2425b"
      },
      "outputs": [
        {
          "output_type": "stream",
          "name": "stdout",
          "text": [
            "CPU times: user 310 ms, sys: 76.9 ms, total: 387 ms\n",
            "Wall time: 388 ms\n"
          ]
        }
      ],
      "source": [
        "my_list = list(range(10000000)) # Utilizando Listas Python\n",
        "%time my_list2 = [x * 2 for x in my_list]"
      ]
    },
    {
      "cell_type": "code",
      "execution_count": null,
      "metadata": {
        "tags": [],
        "colab": {
          "base_uri": "https://localhost:8080/"
        },
        "id": "W_dK-11lEOZb",
        "outputId": "f5fb45d1-81da-4f57-b192-0197890b2230"
      },
      "outputs": [
        {
          "output_type": "stream",
          "name": "stdout",
          "text": [
            "CPU times: user 6.85 ms, sys: 8.29 ms, total: 15.1 ms\n",
            "Wall time: 19.4 ms\n"
          ]
        }
      ],
      "source": [
        "my_arr = np.arange(10000000)  # Utilizando NumPy Arrays\n",
        "%time my_arr2 = my_arr * 2"
      ]
    },
    {
      "cell_type": "markdown",
      "metadata": {
        "id": "3WmwsOSQEOZb"
      },
      "source": [
        "## Formas de crear ndarrays"
      ]
    },
    {
      "cell_type": "code",
      "execution_count": null,
      "metadata": {
        "tags": [],
        "colab": {
          "base_uri": "https://localhost:8080/"
        },
        "id": "a2WTYljoEOZc",
        "outputId": "f3c77ed9-3562-4b96-e11f-130c4001bb77"
      },
      "outputs": [
        {
          "output_type": "stream",
          "name": "stdout",
          "text": [
            "[[  2  71   0  34]\n",
            " [  2 171 -35  34]]\n"
          ]
        }
      ],
      "source": [
        "array = np.array([ [2,71,0,34], [2,171,-35,34] ]) # 2D\n",
        "print(array)"
      ]
    },
    {
      "cell_type": "code",
      "execution_count": null,
      "metadata": {
        "tags": [],
        "colab": {
          "base_uri": "https://localhost:8080/"
        },
        "id": "0xdI4MVyEOZc",
        "outputId": "6cd13dc1-d482-452c-a5d4-c72e12dfa4b1"
      },
      "outputs": [
        {
          "output_type": "stream",
          "name": "stdout",
          "text": [
            "[['onions' 'carrots' 'celery']\n",
            " ['apples' 'oranges' 'grapes']]\n",
            "<class 'numpy.ndarray'>\n"
          ]
        }
      ],
      "source": [
        "shopping_list = [ ['onions', 'carrots', 'celery'], ['apples', 'oranges', 'grapes'] ] # 2D\n",
        "array = np.array(shopping_list) # convertir una lista en una ndarray\n",
        "print(array)\n",
        "print(type(array))"
      ]
    },
    {
      "cell_type": "code",
      "execution_count": null,
      "metadata": {
        "tags": [],
        "colab": {
          "base_uri": "https://localhost:8080/"
        },
        "id": "HV6zblKDEOZc",
        "outputId": "7eba156c-c18d-4dbb-fcd8-2d5bf6160462"
      },
      "outputs": [
        {
          "output_type": "stream",
          "name": "stdout",
          "text": [
            "[100  10   1]\n",
            "[2 4 6 8]\n"
          ]
        }
      ],
      "source": [
        "print(np.array([100,10,1])) # array a partir de una lista\n",
        "print(np.arange(2,10,2))    # array a partir de una secuencia(range) 1D"
      ]
    },
    {
      "cell_type": "code",
      "execution_count": null,
      "metadata": {
        "tags": [],
        "colab": {
          "base_uri": "https://localhost:8080/"
        },
        "id": "3PmiEaRVEOZd",
        "outputId": "4c6694c3-6103-4f74-e122-f73ba3ced634"
      },
      "outputs": [
        {
          "output_type": "stream",
          "name": "stdout",
          "text": [
            "[0. 0.]\n",
            "[[1. 1.]\n",
            " [1. 1.]]\n",
            "[[[9.88e-324 3.51e-322]\n",
            "  [0.00e+000 1.68e-322]]\n",
            "\n",
            " [[9.88e-324 8.45e-322]\n",
            "  [      nan 1.68e-322]]]\n",
            "[[3 3]\n",
            " [3 3]\n",
            " [3 3]\n",
            " [3 3]\n",
            " [3 3]]\n",
            "[[1. 0. 0.]\n",
            " [0. 1. 0.]\n",
            " [0. 0. 1.]]\n"
          ]
        }
      ],
      "source": [
        "# Generar arrays con valores fijos\n",
        "print(np.zeros(2))       # 1D\n",
        "print(np.ones((2,2)))    # matrix 2x2\n",
        "print(np.empty((2,2,2))) # matrix 2x2x2, no inicializados\n",
        "print(np.full((5,2),3)) # matrix 5x2\n",
        "print(np.eye(3))         # matrix identity"
      ]
    },
    {
      "cell_type": "markdown",
      "metadata": {
        "id": "jREEGDkEEOZd"
      },
      "source": [
        "## Obtener información sobre ndarray"
      ]
    },
    {
      "cell_type": "code",
      "execution_count": null,
      "metadata": {
        "tags": [],
        "colab": {
          "base_uri": "https://localhost:8080/"
        },
        "id": "Rw2_fjt4EOZd",
        "outputId": "4c108603-3a04-4182-fc5a-63838569c7d7"
      },
      "outputs": [
        {
          "output_type": "stream",
          "name": "stdout",
          "text": [
            "[ 2 71  0 34]\n"
          ]
        }
      ],
      "source": [
        "my_ndarray = np.array([2,71,0,34])\n",
        "print(my_ndarray)"
      ]
    },
    {
      "cell_type": "code",
      "execution_count": null,
      "metadata": {
        "scrolled": true,
        "tags": [],
        "colab": {
          "base_uri": "https://localhost:8080/"
        },
        "id": "8ubZg8v7EOZd",
        "outputId": "45e8dfe6-8ae4-46d7-bf0a-b2ce181f7b8a"
      },
      "outputs": [
        {
          "output_type": "stream",
          "name": "stdout",
          "text": [
            "1\n",
            "71\n",
            "2\n",
            "0\n",
            "(array([0, 1, 3]),)\n"
          ]
        }
      ],
      "source": [
        "print(my_ndarray.argmax())    # índice del valor más alto\n",
        "print(np.amax(my_ndarray))\n",
        "\n",
        "print(my_ndarray.argmin())    # índice del valor más bajo\n",
        "print(np.amin(my_ndarray))\n",
        "\n",
        "print(my_ndarray.nonzero())   # retorna los índices de los elementos distintos a 0"
      ]
    },
    {
      "cell_type": "code",
      "execution_count": null,
      "metadata": {
        "tags": [],
        "colab": {
          "base_uri": "https://localhost:8080/"
        },
        "id": "GjulXr8cEOZe",
        "outputId": "48ad56cb-e4f0-413d-806f-dd3839ba9201"
      },
      "outputs": [
        {
          "output_type": "stream",
          "name": "stdout",
          "text": [
            "[[[-3 -3]\n",
            "  [-3 -3]]\n",
            "\n",
            " [[-3 -3]\n",
            "  [-3 -3]]\n",
            "\n",
            " [[-3 -3]\n",
            "  [-3 -3]]\n",
            "\n",
            " [[-3 -3]\n",
            "  [-3 -3]]\n",
            "\n",
            " [[-3 -3]\n",
            "  [-3 -3]]]\n",
            "20\n",
            "(5, 2, 2)\n",
            "3\n"
          ]
        }
      ],
      "source": [
        "my_ndarray = np.full((5,2, 2),-3) # matrix 5x2\n",
        "print(my_ndarray)\n",
        "\n",
        "print(my_ndarray.size)        # número de elementos\n",
        "print(my_ndarray.shape)       # dimensiones\n",
        "print(my_ndarray.ndim)        # número de dimensiones"
      ]
    },
    {
      "cell_type": "markdown",
      "metadata": {
        "id": "LT20pwrFEOZe"
      },
      "source": [
        "#### Redimensionar los datos"
      ]
    },
    {
      "cell_type": "code",
      "execution_count": null,
      "metadata": {
        "tags": [],
        "colab": {
          "base_uri": "https://localhost:8080/"
        },
        "id": "NT_hdeiKEOZe",
        "outputId": "282ab2b9-b30f-4c19-b587-c775d897c347"
      },
      "outputs": [
        {
          "output_type": "stream",
          "name": "stdout",
          "text": [
            "[[ 10  71  21  19 213 412 111  98]]\n",
            "(1, 8)\n",
            "2\n"
          ]
        }
      ],
      "source": [
        "my_ndarray = np.array([[10, 71, 21, 19, 213, 412, 111, 98]])  # matrix 1x8\n",
        "print(my_ndarray)\n",
        "print(my_ndarray.shape)\n",
        "print(my_ndarray.ndim)"
      ]
    },
    {
      "cell_type": "code",
      "execution_count": null,
      "metadata": {
        "tags": [],
        "colab": {
          "base_uri": "https://localhost:8080/"
        },
        "id": "NAv4jMhAEOZe",
        "outputId": "11e8ddc2-97c0-41d5-84ed-22ab18da7c33"
      },
      "outputs": [
        {
          "output_type": "stream",
          "name": "stdout",
          "text": [
            "[[ 10  71  21  19]\n",
            " [213 412 111  98]]\n"
          ]
        }
      ],
      "source": [
        "new_dims = my_ndarray.reshape(2, 4)  # cambiar las dimensiones a 4x2\n",
        "print(new_dims)"
      ]
    },
    {
      "cell_type": "code",
      "execution_count": null,
      "metadata": {
        "tags": [],
        "colab": {
          "base_uri": "https://localhost:8080/"
        },
        "id": "mfflQC1LEOZe",
        "outputId": "c9684d0b-dfe2-4c80-ac0c-cd8913909c0e"
      },
      "outputs": [
        {
          "output_type": "stream",
          "name": "stdout",
          "text": [
            "[[ 10  71]\n",
            " [ 21  19]\n",
            " [213 412]\n",
            " [111  98]]\n"
          ]
        }
      ],
      "source": [
        "new_dims = my_ndarray.reshape(4, 2)  # cambiar las dimensiones a 2x4\n",
        "print(new_dims)"
      ]
    },
    {
      "cell_type": "code",
      "execution_count": null,
      "metadata": {
        "tags": [],
        "colab": {
          "base_uri": "https://localhost:8080/"
        },
        "id": "mwiWFUlEEOZe",
        "outputId": "d58a56d2-a391-4150-bc17-ea65418a99ab"
      },
      "outputs": [
        {
          "output_type": "stream",
          "name": "stdout",
          "text": [
            "(3, 1)\n",
            "[[100]\n",
            " [ 10]\n",
            " [  1]]\n"
          ]
        }
      ],
      "source": [
        "x = np.array([100, 10, 1]).reshape(3,1)\n",
        "print(x.shape)\n",
        "print(x)"
      ]
    },
    {
      "cell_type": "code",
      "execution_count": null,
      "metadata": {
        "tags": [],
        "colab": {
          "base_uri": "https://localhost:8080/"
        },
        "id": "yOPlcKffEOZe",
        "outputId": "6b7f1d06-e140-457f-b51e-40e0c6932fec"
      },
      "outputs": [
        {
          "output_type": "stream",
          "name": "stdout",
          "text": [
            "[[0 1 2]\n",
            " [3 4 5]\n",
            " [6 7 8]]\n",
            "[0 1 2 3 4 5 6 7 8]\n"
          ]
        }
      ],
      "source": [
        "# reducir a 1D\n",
        "new_dims = np.arange(9).reshape(3,3)\n",
        "print(new_dims)\n",
        "print(new_dims.flatten()) #aplanar na matriz a una dimensión"
      ]
    },
    {
      "cell_type": "code",
      "execution_count": null,
      "metadata": {
        "tags": [],
        "colab": {
          "base_uri": "https://localhost:8080/"
        },
        "id": "Tl-_aIIkEOZf",
        "outputId": "063fc87e-a64b-4e49-d339-f4ad8125e349"
      },
      "outputs": [
        {
          "output_type": "stream",
          "name": "stdout",
          "text": [
            "[[ 0  1  2  3]\n",
            " [ 4  5  6  7]\n",
            " [ 8  9 10 11]\n",
            " [12 13 14 15]]\n",
            "[[ 0  1  2  3  4  5  6  7]\n",
            " [ 8  9 10 11 12 13 14 15]]\n"
          ]
        }
      ],
      "source": [
        "# reducir\n",
        "new_dims = np.arange(16).reshape(4,4)\n",
        "print(new_dims)\n",
        "print(new_dims.reshape(2, -1))    # el segundo valor se infiere del primero"
      ]
    },
    {
      "cell_type": "markdown",
      "metadata": {
        "id": "dV833VYaEOZf"
      },
      "source": [
        "## Manipulación de ndarrays"
      ]
    },
    {
      "cell_type": "code",
      "execution_count": null,
      "metadata": {
        "tags": [],
        "colab": {
          "base_uri": "https://localhost:8080/"
        },
        "id": "mWE8CRm1EOZf",
        "outputId": "cff2b2cc-bb9d-4186-9b10-29f4caa38c7e"
      },
      "outputs": [
        {
          "output_type": "stream",
          "name": "stdout",
          "text": [
            "[[ 0  1  2  3]\n",
            " [ 4  5  6  7]\n",
            " [ 8  9 10 11]\n",
            " [12 13 14 15]]\n",
            "[[ 0  4  8 12]\n",
            " [ 1  5  9 13]\n",
            " [ 2  6 10 14]\n",
            " [ 3  7 11 15]]\n"
          ]
        }
      ],
      "source": [
        "# Cambiar ejes\n",
        "new_dims = np.arange(16).reshape(4,4)\n",
        "print(new_dims)\n",
        "print(new_dims.swapaxes(0,1))#cambio ejes, transponer"
      ]
    },
    {
      "cell_type": "code",
      "execution_count": null,
      "metadata": {
        "tags": [],
        "colab": {
          "base_uri": "https://localhost:8080/"
        },
        "id": "2X8TjmWvEOZf",
        "outputId": "b9ea07de-0f67-489b-a790-16d665067dbf"
      },
      "outputs": [
        {
          "output_type": "stream",
          "name": "stdout",
          "text": [
            "[[ 0  1  2  3]\n",
            " [ 4  5  6  7]\n",
            " [ 8  9 10 11]\n",
            " [12 13 14 15]]\n",
            "[[15 14 13 12]\n",
            " [11 10  9  8]\n",
            " [ 7  6  5  4]\n",
            " [ 3  2  1  0]]\n"
          ]
        }
      ],
      "source": [
        "# Flip\n",
        "new_dims = np.arange(16).reshape(4,4)\n",
        "print(new_dims)\n",
        "print(np.flip(new_dims)) #espejo"
      ]
    },
    {
      "cell_type": "code",
      "execution_count": null,
      "metadata": {
        "tags": [],
        "colab": {
          "base_uri": "https://localhost:8080/"
        },
        "id": "6OvcQHTmEOZf",
        "outputId": "c0d7c458-0b46-4ceb-efa7-c584aaa2ff58"
      },
      "outputs": [
        {
          "output_type": "stream",
          "name": "stdout",
          "text": [
            "[ 2  9 10 17]\n"
          ]
        }
      ],
      "source": [
        "# ordenar\n",
        "array1 = np.array([10,2,9,17])\n",
        "array1.sort()\n",
        "print(array1)"
      ]
    },
    {
      "cell_type": "code",
      "execution_count": null,
      "metadata": {
        "tags": [],
        "colab": {
          "base_uri": "https://localhost:8080/"
        },
        "id": "3ClUgih9EOZf",
        "outputId": "23596adf-a829-46f8-f90d-8eb213a10645"
      },
      "outputs": [
        {
          "output_type": "stream",
          "name": "stdout",
          "text": [
            "[0 0 0 0 0 0 1 1 1 1 1 1]\n",
            "(12,)\n",
            "[[0 0 0 0 0 0]\n",
            " [1 1 1 1 1 1]]\n",
            "(2, 6)\n"
          ]
        }
      ],
      "source": [
        "# Juntar dos arrays\n",
        "a1 = [0,0,0,0,0,0]\n",
        "a2 = [1,1,1,1,1,1]\n",
        "\n",
        "print(np.hstack((a1,a2))) # una al lado de la otra\n",
        "print(np.hstack((a1,a2)).shape)\n",
        "\n",
        "print(np.vstack((a1,a2))) # una encima de la otra\n",
        "print(np.vstack((a1,a2)).shape)"
      ]
    },
    {
      "cell_type": "code",
      "execution_count": null,
      "metadata": {
        "tags": [],
        "colab": {
          "base_uri": "https://localhost:8080/"
        },
        "id": "_b3k7SqEEOZf",
        "outputId": "46f00265-36b6-4c9b-8151-49631304f631"
      },
      "outputs": [
        {
          "output_type": "stream",
          "name": "stdout",
          "text": [
            "[[ 0  1  2  3]\n",
            " [ 4  5  6  7]\n",
            " [ 8  9 10 11]\n",
            " [12 13 14 15]]\n",
            "[array([[ 0,  1],\n",
            "       [ 4,  5],\n",
            "       [ 8,  9],\n",
            "       [12, 13]]), array([[ 2,  3],\n",
            "       [ 6,  7],\n",
            "       [10, 11],\n",
            "       [14, 15]])]\n",
            "[array([[0, 1, 2, 3],\n",
            "       [4, 5, 6, 7]]), array([[ 8,  9, 10, 11]]), array([[12, 13, 14, 15]])]\n",
            "[array([[0, 1, 2, 3],\n",
            "       [4, 5, 6, 7]]), array([[ 8,  9, 10, 11],\n",
            "       [12, 13, 14, 15]])]\n"
          ]
        }
      ],
      "source": [
        "# dividir un array\n",
        "array = np.arange(16).reshape(4,4)\n",
        "print(array)\n",
        "print(np.array_split(array,2, axis=1)) # divide array en 2 partes iguales\n",
        "print(np.array_split(array,3)) # divide array en 3 partes \"iguales\"\n",
        "print(np.array_split(array,[2],axis=0))"
      ]
    },
    {
      "cell_type": "code",
      "execution_count": 3,
      "metadata": {
        "scrolled": true,
        "tags": [],
        "colab": {
          "base_uri": "https://localhost:8080/"
        },
        "id": "m40SaX9VEOZf",
        "outputId": "87acc681-c7d7-4469-d73d-89465f351bbf"
      },
      "outputs": [
        {
          "output_type": "stream",
          "name": "stdout",
          "text": [
            "[[ 0  1  2  3]\n",
            " [ 4  5  6  7]\n",
            " [ 8  9 10 11]\n",
            " [12 13 14 15]]\n",
            "[array([[ 0,  1,  2,  3],\n",
            "       [ 4,  5,  6,  7],\n",
            "       [ 8,  9, 10, 11]]), array([[12, 13, 14, 15]])]\n"
          ]
        }
      ],
      "source": [
        "# dividir un array\n",
        "array = np.arange(16).reshape(4,4)\n",
        "print(array)\n",
        "print(np.array_split(array,[3], axis = 0)) # divide array, por la fila 3"
      ]
    },
    {
      "cell_type": "code",
      "execution_count": null,
      "metadata": {
        "tags": [],
        "colab": {
          "base_uri": "https://localhost:8080/"
        },
        "id": "W-nZ73_aEOZf",
        "outputId": "7cefcb41-9480-4d99-a298-fd2b8f2eb3ac"
      },
      "outputs": [
        {
          "output_type": "stream",
          "name": "stdout",
          "text": [
            "[[ 0  1  2  3  4  5  6  7]\n",
            " [ 8  9 10 11 12 13 14 15]\n",
            " [16 17 18 19 20 21 22 23]\n",
            " [24 25 26 27 28 29 30 31]\n",
            " [32 33 34 35 36 37 38 39]\n",
            " [40 41 42 43 44 45 46 47]\n",
            " [48 49 50 51 52 53 54 55]\n",
            " [56 57 58 59 60 61 62 63]]\n",
            "[array([[0, 1, 2, 3, 4, 5, 6, 7]]), array([[ 8,  9, 10, 11, 12, 13, 14, 15],\n",
            "       [16, 17, 18, 19, 20, 21, 22, 23]]), array([[24, 25, 26, 27, 28, 29, 30, 31],\n",
            "       [32, 33, 34, 35, 36, 37, 38, 39],\n",
            "       [40, 41, 42, 43, 44, 45, 46, 47],\n",
            "       [48, 49, 50, 51, 52, 53, 54, 55],\n",
            "       [56, 57, 58, 59, 60, 61, 62, 63]])]\n",
            "[array([[ 0],\n",
            "       [ 8],\n",
            "       [16],\n",
            "       [24],\n",
            "       [32],\n",
            "       [40],\n",
            "       [48],\n",
            "       [56]]), array([[ 1,  2],\n",
            "       [ 9, 10],\n",
            "       [17, 18],\n",
            "       [25, 26],\n",
            "       [33, 34],\n",
            "       [41, 42],\n",
            "       [49, 50],\n",
            "       [57, 58]]), array([[ 3,  4,  5,  6,  7],\n",
            "       [11, 12, 13, 14, 15],\n",
            "       [19, 20, 21, 22, 23],\n",
            "       [27, 28, 29, 30, 31],\n",
            "       [35, 36, 37, 38, 39],\n",
            "       [43, 44, 45, 46, 47],\n",
            "       [51, 52, 53, 54, 55],\n",
            "       [59, 60, 61, 62, 63]])]\n"
          ]
        }
      ],
      "source": [
        "array = np.arange(64).reshape(8,8)\n",
        "print(array)\n",
        "print(np.array_split(array, [1, 3], axis = 0))  # divide array por la fila 1 y 2\n",
        "\n",
        "print(np.array_split(array, [1, 3], axis = 1))  # divide array por la columna 1 y 2\n",
        "# # axis = n_dimensions - 1"
      ]
    },
    {
      "cell_type": "markdown",
      "metadata": {
        "id": "tHNkIIbwEOZf"
      },
      "source": [
        "# Índices y slicing\n",
        "- De manera análoga a índices y slicing para listas"
      ]
    },
    {
      "cell_type": "code",
      "execution_count": null,
      "metadata": {
        "tags": [],
        "colab": {
          "base_uri": "https://localhost:8080/"
        },
        "id": "Yl1XLIN0EOZg",
        "outputId": "2273ebce-1c02-4e82-9d52-f73c2aee7e43"
      },
      "outputs": [
        {
          "output_type": "stream",
          "name": "stdout",
          "text": [
            "[10 11 12 13 14 15]\n",
            "12\n",
            "[10 11 12 13 14]\n"
          ]
        }
      ],
      "source": [
        "array = np.arange(10, 16)\n",
        "print(array)\n",
        "print(array[2])    # acceso unidimensional\n",
        "print(array[:-1])  # slice"
      ]
    },
    {
      "cell_type": "code",
      "execution_count": 5,
      "metadata": {
        "tags": [],
        "colab": {
          "base_uri": "https://localhost:8080/"
        },
        "id": "KuvoPYusEOZg",
        "outputId": "85faaac7-457b-423e-a6e8-8aef4768d56e"
      },
      "outputs": [
        {
          "output_type": "stream",
          "name": "stdout",
          "text": [
            "[[ 0  1  2  3]\n",
            " [ 4  5  6  7]\n",
            " [ 8  9 10 11]\n",
            " [12 13 14 15]]\n",
            "10\n",
            "10\n"
          ]
        }
      ],
      "source": [
        "# bidimensional\n",
        "array = np.arange(16).reshape(4,4)\n",
        "print(array)\n",
        "print(array[2, 2]) # fila, columna\n",
        "print(array[2][2]) # fila, columna"
      ]
    },
    {
      "cell_type": "code",
      "execution_count": 6,
      "metadata": {
        "tags": [],
        "colab": {
          "base_uri": "https://localhost:8080/"
        },
        "id": "W8aQoVx-EOZg",
        "outputId": "1c80a835-1ea9-47b8-9e7a-7240f3ebb2f6"
      },
      "outputs": [
        {
          "output_type": "stream",
          "name": "stdout",
          "text": [
            "[[[ 0  1  2  3  4  5]\n",
            "  [ 6  7  8  9 10 11]\n",
            "  [12 13 14 15 16 17]]\n",
            "\n",
            " [[18 19 20 21 22 23]\n",
            "  [24 25 26 27 28 29]\n",
            "  [30 31 32 33 34 35]]]\n",
            "34\n"
          ]
        }
      ],
      "source": [
        "# multidimensional\n",
        "array = np.arange(36).reshape(2,3,6)\n",
        "print(array)\n",
        "print(array[1,2,4])"
      ]
    },
    {
      "cell_type": "markdown",
      "metadata": {
        "id": "BChn4W2GEOZg"
      },
      "source": [
        "#### NumPy es row major"
      ]
    },
    {
      "cell_type": "code",
      "execution_count": 7,
      "metadata": {
        "tags": [],
        "colab": {
          "base_uri": "https://localhost:8080/"
        },
        "id": "ULvI5zkjEOZg",
        "outputId": "ee8f73f4-c041-4b0e-9337-4d188c83ae19"
      },
      "outputs": [
        {
          "output_type": "stream",
          "name": "stdout",
          "text": [
            "[[1 2 3]\n",
            " [4 5 6]]\n"
          ]
        }
      ],
      "source": [
        "row_major = np.array([1, 2, 3, 4, 5, 6])\n",
        "row_major = row_major.reshape(2,3)  # by default, row major\n",
        "print(row_major)"
      ]
    },
    {
      "cell_type": "code",
      "execution_count": 8,
      "metadata": {
        "tags": [],
        "colab": {
          "base_uri": "https://localhost:8080/"
        },
        "id": "hOlDqIDgEOZg",
        "outputId": "d2ad8745-a40e-453d-b8b4-7c77812c1e6f"
      },
      "outputs": [
        {
          "output_type": "stream",
          "name": "stdout",
          "text": [
            "[[1 2 3]\n",
            " [4 5 6]]\n",
            "[[1 3 5]\n",
            " [2 4 6]]\n"
          ]
        }
      ],
      "source": [
        "row_major = np.array([1, 2, 3, 4, 5, 6])\n",
        "row_major = row_major.reshape(2,3,order='C')  # by default, row major\n",
        "print(row_major)\n",
        "\n",
        "col_major = np.array([1, 2, 3, 4, 5, 6])\n",
        "col_major = col_major.reshape(2,3,order='F')  # col major\n",
        "print(col_major)"
      ]
    },
    {
      "cell_type": "markdown",
      "metadata": {
        "id": "BB2I1XOJEOZg"
      },
      "source": [
        "#### Slice"
      ]
    },
    {
      "cell_type": "code",
      "execution_count": 9,
      "metadata": {
        "tags": [],
        "colab": {
          "base_uri": "https://localhost:8080/"
        },
        "id": "iQlcdIqGEOZg",
        "outputId": "fa5bb1be-b908-4388-91b3-a603d8a6382b"
      },
      "outputs": [
        {
          "output_type": "stream",
          "name": "stdout",
          "text": [
            "[[ 0  1  2  3  4  5  6  7  8]\n",
            " [ 9 10 11 12 13 14 15 16 17]\n",
            " [18 19 20 21 22 23 24 25 26]\n",
            " [27 28 29 30 31 32 33 34 35]\n",
            " [36 37 38 39 40 41 42 43 44]\n",
            " [45 46 47 48 49 50 51 52 53]\n",
            " [54 55 56 57 58 59 60 61 62]\n",
            " [63 64 65 66 67 68 69 70 71]\n",
            " [72 73 74 75 76 77 78 79 80]]\n",
            "[ 0  9 18 27 36 45 54 63 72]\n"
          ]
        }
      ],
      "source": [
        "# se puede hacer slice por fila o columna\n",
        "array = np.arange(81).reshape(9,9)\n",
        "print(array)\n",
        "print(array[:,0])"
      ]
    },
    {
      "cell_type": "code",
      "execution_count": 10,
      "metadata": {
        "tags": [],
        "colab": {
          "base_uri": "https://localhost:8080/"
        },
        "id": "k3DmGycuEOZh",
        "outputId": "1f00475d-7ed7-4963-e79d-02b61d7fa7e5"
      },
      "outputs": [
        {
          "output_type": "stream",
          "name": "stdout",
          "text": [
            "[[0 1 2]\n",
            " [3 4 5]\n",
            " [6 7 8]]\n",
            "[0 1 2]\n"
          ]
        }
      ],
      "source": [
        "# se puede hacer slice por fila o columna\n",
        "array = np.arange(9).reshape(3,3)\n",
        "print(array)\n",
        "print(array[0,:])"
      ]
    },
    {
      "cell_type": "markdown",
      "metadata": {
        "id": "jYHGz7yHEOZh"
      },
      "source": [
        "#### Diferencias entre índices y slicing en listas y ndarrays:\n",
        "- ¡Retornan una referencia, no una copia!"
      ]
    },
    {
      "cell_type": "code",
      "execution_count": 11,
      "metadata": {
        "tags": [],
        "colab": {
          "base_uri": "https://localhost:8080/"
        },
        "id": "17Zuyl48EOZh",
        "outputId": "02479c2c-56c3-4cfe-fbbd-7adba2c97dee"
      },
      "outputs": [
        {
          "output_type": "stream",
          "name": "stdout",
          "text": [
            "[0, 1]\n",
            "[0, 1, 2, 3, 4, 5, 6, 7, 8, 9]\n",
            "[222, 1]\n"
          ]
        }
      ],
      "source": [
        "# uso de slice en listas, retorna copia\n",
        "lista = [0,1,2,3,4,5,6,7,8,9]\n",
        "my_copy = lista[0:2]  # devuelve una copia\n",
        "print(my_copy)\n",
        "my_copy[0] = 222\n",
        "print(lista)\n",
        "print(my_copy)"
      ]
    },
    {
      "cell_type": "code",
      "execution_count": 12,
      "metadata": {
        "tags": [],
        "colab": {
          "base_uri": "https://localhost:8080/"
        },
        "id": "deD2EsnWEOZh",
        "outputId": "f4525b39-ce92-4abc-f639-2af17b7227ab"
      },
      "outputs": [
        {
          "output_type": "stream",
          "name": "stdout",
          "text": [
            "[0 1 2 3 4 5 6 7 8 9]\n",
            "[2 3 4]\n",
            "[  0   1 222   3   4   5   6   7   8   9]\n",
            "[222   3   4]\n"
          ]
        }
      ],
      "source": [
        "# slicing retorna una referencia en ndarrays\n",
        "array = np.arange(10)\n",
        "my_copy = array[2:5]  # devuelve una referencia\n",
        "print(array)\n",
        "print(my_copy)\n",
        "my_copy[0] = 222\n",
        "print(array)\n",
        "print(my_copy)"
      ]
    },
    {
      "cell_type": "code",
      "execution_count": 13,
      "metadata": {
        "tags": [],
        "colab": {
          "base_uri": "https://localhost:8080/"
        },
        "id": "QMNbWSHvEOZi",
        "outputId": "5137f71d-eab5-41c1-92dc-2e3d56bced36"
      },
      "outputs": [
        {
          "output_type": "stream",
          "name": "stdout",
          "text": [
            "[0 1 2 3 4 5 6 7 8 9]\n",
            "[222   3   4]\n"
          ]
        }
      ],
      "source": [
        "# copiar ndarrays\n",
        "array = np.arange(10)\n",
        "my_copy = array[2:5].copy()  # hay que hacer la copia explicitamente\n",
        "my_copy[0] = 222\n",
        "print(array)\n",
        "print(my_copy)"
      ]
    },
    {
      "cell_type": "markdown",
      "metadata": {
        "id": "fIsO_YtiEOZi"
      },
      "source": [
        "- Permite asignar valores a un corte"
      ]
    },
    {
      "cell_type": "code",
      "execution_count": 14,
      "metadata": {
        "tags": [],
        "colab": {
          "base_uri": "https://localhost:8080/"
        },
        "id": "mEXyhGEREOZi",
        "outputId": "a1e34c1a-1f24-4e02-91dc-dfc2102866c6"
      },
      "outputs": [
        {
          "output_type": "stream",
          "name": "stdout",
          "text": [
            "[0 1 2 3 4 5 6 7 8 9]\n",
            "[-1 -1 -1  3  4  5  6  7  8  9]\n"
          ]
        }
      ],
      "source": [
        "array = np.arange(10)\n",
        "print(array)\n",
        "\n",
        "array[0:3] = -1\n",
        "print(array)"
      ]
    },
    {
      "cell_type": "markdown",
      "metadata": {
        "id": "EPmaFU8xEOZi"
      },
      "source": [
        "- Slicing condicionales (mask)"
      ]
    },
    {
      "cell_type": "code",
      "execution_count": 15,
      "metadata": {
        "tags": [],
        "colab": {
          "base_uri": "https://localhost:8080/"
        },
        "id": "fn7N59EgEOZi",
        "outputId": "cba4166b-408d-4677-8d10-f45190fa6745"
      },
      "outputs": [
        {
          "output_type": "stream",
          "name": "stdout",
          "text": [
            "[-3 -2 -1  0  1  2  3]\n",
            "[ True  True  True False False False False]\n",
            "[-3 -2 -1]\n",
            "[0 0 0 0 1 2 3]\n"
          ]
        }
      ],
      "source": [
        "# slicing condicional\n",
        "array = np.arange(-3,4)\n",
        "print(array)\n",
        "\n",
        "mask = array < 0\n",
        "print(mask)\n",
        "\n",
        "print(array[mask])\n",
        "\n",
        "array[mask] = 0\n",
        "print(array)"
      ]
    },
    {
      "cell_type": "code",
      "execution_count": 16,
      "metadata": {
        "tags": [],
        "colab": {
          "base_uri": "https://localhost:8080/"
        },
        "id": "EducRIohEOZi",
        "outputId": "885369a8-019f-4824-c13b-10464abe801a"
      },
      "outputs": [
        {
          "output_type": "stream",
          "name": "stdout",
          "text": [
            "[-3 -2 -1  0  1  2  3]\n",
            "[0 0 0 0 1 2 3]\n"
          ]
        }
      ],
      "source": [
        "array = np.arange(-3,4)\n",
        "print(array)\n",
        "\n",
        "array[array < 0] = 0\n",
        "print(array)"
      ]
    },
    {
      "cell_type": "code",
      "execution_count": 17,
      "metadata": {
        "tags": [],
        "colab": {
          "base_uri": "https://localhost:8080/"
        },
        "id": "m9it1dD_EOZi",
        "outputId": "baae8935-1481-4bf5-a913-b661fb1a631e"
      },
      "outputs": [
        {
          "output_type": "stream",
          "name": "stdout",
          "text": [
            "[-3 -2 -1  0  1  2  3]\n",
            "[False  True False  True False  True False]\n",
            "[-2  0  2]\n",
            "[-3 -2 -1  0  1  2  3]\n",
            "[-10   0   2]\n"
          ]
        }
      ],
      "source": [
        "# slicing condicional aca si DEVUELVE UNA COPIA\n",
        "\n",
        "array = np.arange(-3,4)\n",
        "print(array)\n",
        "\n",
        "mask = array % 2 == 0\n",
        "print(mask)\n",
        "\n",
        "array_par = array[mask]  # devuelve una copia\n",
        "print(array_par)\n",
        "\n",
        "array_par[0] = -10\n",
        "print(array)\n",
        "print(array_par)"
      ]
    },
    {
      "cell_type": "code",
      "execution_count": null,
      "metadata": {
        "tags": [],
        "colab": {
          "base_uri": "https://localhost:8080/"
        },
        "id": "z6J4L6tQEOZi",
        "outputId": "b68fc4a6-9e65-4a03-a480-a7aad4b525d9"
      },
      "outputs": [
        {
          "output_type": "stream",
          "name": "stdout",
          "text": [
            "[False  True False  True False  True False]\n",
            "[-3 -2 -1  0  1  2  3]\n",
            "[-2  0  2]\n",
            "[-3 10 -1 10  1 10  3]\n",
            "[-3  0 -1  0  1  0  3]\n"
          ]
        }
      ],
      "source": [
        "# slicing condicional\n",
        "array = np.arange(-3,4)\n",
        "mask = array % 2 == 0\n",
        "print(mask)\n",
        "print(array)\n",
        "print(array[mask])\n",
        "\n",
        "array[mask] = 10 # ??\n",
        "print(array)\n",
        "\n",
        "mask = array == 10\n",
        "array[mask] = 0 # ??\n",
        "print(array)"
      ]
    },
    {
      "cell_type": "markdown",
      "metadata": {
        "id": "lcLBjF0kEOZj"
      },
      "source": [
        "- Acceso a múltiples valores con listados de índices"
      ]
    },
    {
      "cell_type": "code",
      "execution_count": 18,
      "metadata": {
        "tags": [],
        "colab": {
          "base_uri": "https://localhost:8080/"
        },
        "id": "f3Cn54KrEOZj",
        "outputId": "66f78f23-a14e-4eb2-e545-41d3bb778f2c"
      },
      "outputs": [
        {
          "output_type": "stream",
          "name": "stdout",
          "text": [
            "[-10  -9  -8  -7  -6  -5  -4  -3  -2  -1]\n",
            "[-8 -7 -9]\n",
            "[-8 -7 -9]\n",
            "[999  -7  -9]\n",
            "[-10  -9  -8  -7  -6  -5  -4  -3  -2  -1]\n"
          ]
        }
      ],
      "source": [
        "array = np.arange(-10,0)\n",
        "print(array)\n",
        "print(array[[2,3,1]])\n",
        "\n",
        "ar = array[[2,3,1]] # slice, copia\n",
        "print(ar)\n",
        "ar[0] = 999\n",
        "print(ar)\n",
        "print(array)"
      ]
    },
    {
      "cell_type": "markdown",
      "metadata": {
        "id": "gsQZ1hOXEOZj"
      },
      "source": [
        "# Funciones matemáticas\n",
        "- Aplicar operaciones entre escalares y arrays o entre arrays"
      ]
    },
    {
      "cell_type": "code",
      "execution_count": null,
      "metadata": {
        "tags": [],
        "colab": {
          "base_uri": "https://localhost:8080/"
        },
        "id": "kOg9CjrWEOZj",
        "outputId": "80eb1fb6-004d-4af4-b033-b666b0e79928"
      },
      "outputs": [
        {
          "output_type": "stream",
          "name": "stdout",
          "text": [
            "[0, 1, 2, 3, 0, 1, 2, 3, 0, 1, 2, 3]\n",
            "[0, 1, 2, 3, 0, 1, 2, 3, 0, 1, 2, 3, 1]\n"
          ]
        }
      ],
      "source": [
        "# listas y escalares\n",
        "lista = [0,1,2,3]\n",
        "lista *= 3\n",
        "print(lista)\n",
        "\n",
        "lista += [1]\n",
        "print(lista)"
      ]
    },
    {
      "cell_type": "code",
      "execution_count": null,
      "metadata": {
        "colab": {
          "base_uri": "https://localhost:8080/"
        },
        "id": "1yl6_zsHEOZj",
        "outputId": "d832910b-0f20-4a9c-ba96-2564ebd9443d"
      },
      "outputs": [
        {
          "output_type": "stream",
          "name": "stdout",
          "text": [
            "[2. 2. 2. 2.]\n",
            "[12. 12. 12. 12.]\n"
          ]
        }
      ],
      "source": [
        "# ndarray hace las operaciones sobre los elementos\n",
        "array = np.ones(4) * 2\n",
        "print(array)\n",
        "\n",
        "array += 10\n",
        "print(array)"
      ]
    },
    {
      "cell_type": "code",
      "execution_count": null,
      "metadata": {
        "colab": {
          "base_uri": "https://localhost:8080/"
        },
        "id": "Lvb6XPeAEOZj",
        "outputId": "f6a1ed41-0df9-40d4-eef2-03342c3b8622"
      },
      "outputs": [
        {
          "output_type": "stream",
          "name": "stdout",
          "text": [
            "[2. 2. 2. 2.]\n",
            "[1 2 3 4]\n",
            "[3. 4. 5. 6.]\n",
            "[ 1.  0. -1. -2.]\n",
            "[2. 4. 6. 8.]\n",
            "[2.         1.         0.66666667 0.5       ]\n"
          ]
        }
      ],
      "source": [
        "# operaciones entre arrays es como operaciones entre matrices\n",
        "array_1 = np.ones(4) * 2\n",
        "array_2 = np.arange(4) + 1\n",
        "\n",
        "print(array_1)\n",
        "print(array_2)\n",
        "\n",
        "print(array_1 + array_2)\n",
        "print(array_1 - array_2)\n",
        "print(array_1 * array_2)\n",
        "print(array_1 / array_2)"
      ]
    },
    {
      "cell_type": "markdown",
      "metadata": {
        "tags": [],
        "id": "mAg0JjQZEOZj"
      },
      "source": [
        "## Broadcasting"
      ]
    },
    {
      "cell_type": "markdown",
      "metadata": {
        "id": "kNvG0kccEOZk"
      },
      "source": [
        "Si las arrays no tienen las mismas dimensiones, se hace broadcast del pequeño al grande -> [broadcasting](https://docs.scipy.org/doc/numpy-1.13.0/user/basics.broadcasting.html)"
      ]
    },
    {
      "cell_type": "markdown",
      "metadata": {
        "id": "XTQZqVhlEOZk"
      },
      "source": [
        "## Operadores unarios y binarios\n",
        "\n",
        "| Tipo | Operación | Descripción |\n",
        "|:---------|:-----|:-----|\n",
        "| Unario | *abs* | Valor absoluto de cada elemento |\n",
        "| | *sqrt* | Raíz cuadrada de cada elemento |\n",
        "| | *exp* | e^x, siendo x cad elemento |\n",
        "| | *log, log10, log2* | Logaritmos en distintas bases de cada elemento |\n",
        "| | *sign* | Retorna el signo de cada elemento (-1 para negativo, 0 o 1 para positivo) |\n",
        "| | *ceil* | Redondea cada elemento por arriba |\n",
        "| | *floor* | Redondea cada elemento por abajo |\n",
        "| | *isnan* | Retorna si cada elemento es Nan |\n",
        "| | *cos, sin, tan* | Operaciones trigonométricas en cada elemento |\n",
        "| | *arccos, arcsin, arctan* | Inversas de operaciones trigonométricas en cada elemento |\n",
        "| Binario | *add* | Suma de dos arrays |\n",
        "| | *substract* | Resta de dos arrays |\n",
        "| | *multiply* | Multiplicación de dos arrays |\n",
        "| | *divide* | División de dos arrays |\n",
        "| | *maximum, minimum* | Retorna el valor máximo/mínimo de cada pareja de elementos |\n",
        "| | *equal, not_equal* | Retorna la comparación (igual o no igual) de cada pareja de elementos |\n",
        "| | *greater, greater_equal, less, less_equal* | Retorna la comparación (>, >=, <, <= respectivamente) de cada pareja de elementos |"
      ]
    },
    {
      "cell_type": "code",
      "execution_count": null,
      "metadata": {
        "colab": {
          "base_uri": "https://localhost:8080/"
        },
        "id": "rn8L46_CEOZk",
        "outputId": "8f9e4657-d924-4a7a-ff23-cf2f84efed89"
      },
      "outputs": [
        {
          "output_type": "execute_result",
          "data": {
            "text/plain": [
              "array([0.        , 1.        , 1.41421356, 1.73205081, 2.        ])"
            ]
          },
          "metadata": {},
          "execution_count": 64
        }
      ],
      "source": [
        "# ejemplos de operadores\n",
        "array = np.arange(5)\n",
        "np.sqrt(array)"
      ]
    },
    {
      "cell_type": "code",
      "execution_count": null,
      "metadata": {
        "tags": [],
        "colab": {
          "base_uri": "https://localhost:8080/"
        },
        "id": "_k0MTVIeEOZk",
        "outputId": "0896ea4b-cf41-4d2c-e09d-a02f9a9aeaa3"
      },
      "outputs": [
        {
          "output_type": "stream",
          "name": "stdout",
          "text": [
            "[0 1 2 3]\n",
            "[ 0 -1  2 -3]\n",
            "[False  True False  True]\n",
            "[False  True False  True]\n"
          ]
        }
      ],
      "source": [
        "# ejemplos de operadores\n",
        "array1 = np.arange(4)\n",
        "array2 = np.array([0,-1,2,-3])\n",
        "\n",
        "print(array1)\n",
        "print(array2)\n",
        "\n",
        "print(np.greater(array1,array2))\n",
        "print(np.less(array2, array1))"
      ]
    },
    {
      "cell_type": "markdown",
      "metadata": {
        "id": "-Qgiz6qOEOZk"
      },
      "source": [
        "# Estadística descriptiva\n",
        "- Importante saber la naturaleza de los datos\n",
        "- Valores máximos, mínimos, distribución, etc.\n",
        "\n",
        "| Función | Descripción |\n",
        "|:---------|:-----|\n",
        "| *sum(arr)* | Suma de todos los elementos de *arr* |\n",
        "| *mean(arr)* | Media aritmética de los elementos de *arr* |\n",
        "| *std(arr)* | Desviación estándar de los elementos de *arr* |\n",
        "| *cumsum(arr)* | Devuelve array con la suma acumulada de cada elementos con todos los anteriores |\n",
        "| *cumprod(arr)* | Devuelve array con el producto acumulado de cada elementos con todos los anteriores |\n",
        "| *min(arr), max(arr)* | Mínimo y máximo de *arr* |\n",
        "| *any(arr)* | En array de tipo *bool*, retorna *True* si algún elemento es *True* |\n",
        "| *all(arr)* | En array de tipo *bool*, retorna *True* si todos los elementos son *True* (o >0 en valores numéricos) |\n",
        "| *unique(arr)* | Devuelve un array con valores únicos |\n",
        "| *in1d(arr1, arr2)* | Devuelve un array con bool indicando si cada elemento de *arr1* está en *arr2* |\n",
        "| *union1d(arr1, arr2)* | Devuelve la unión de ambos arrays |\n",
        "| *intersect1d(arr1, arr2)* | Devuelve la intersección de ambos arrays |"
      ]
    },
    {
      "cell_type": "code",
      "execution_count": null,
      "metadata": {
        "tags": [],
        "colab": {
          "base_uri": "https://localhost:8080/"
        },
        "id": "i4C9fp41EOZk",
        "outputId": "e6f81cb4-559d-4004-f96e-6b2a4279906a"
      },
      "outputs": [
        {
          "output_type": "stream",
          "name": "stdout",
          "text": [
            "[0 1 2 3 4 5 6 7 8]\n",
            "36\n",
            "[ 0  1  3  6 10 15 21 28 36]\n"
          ]
        }
      ],
      "source": [
        "# sum != cumsum\n",
        "array1 = np.arange(9)\n",
        "print(array1)\n",
        "print(array1.sum())\n",
        "print(array1.cumsum())"
      ]
    },
    {
      "cell_type": "code",
      "execution_count": null,
      "metadata": {
        "tags": [],
        "colab": {
          "base_uri": "https://localhost:8080/"
        },
        "id": "20OGMvCVEOZk",
        "outputId": "0494f79c-0d96-4ae1-a2e9-9719cbb1f96f"
      },
      "outputs": [
        {
          "output_type": "stream",
          "name": "stdout",
          "text": [
            "[[-15 -14 -13 -12 -11]\n",
            " [-10  -9  -8  -7  -6]]\n",
            "True\n",
            "True\n"
          ]
        }
      ],
      "source": [
        "# any vs all\n",
        "array1 = np.arange(-15,-5).reshape(2,5)\n",
        "print(array1)\n",
        "print(array1.any()) # any para saber si hay elementos True o valores <> 0\n",
        "print(array1.all()) # all para saber si TODOS los elementos son True o valores <> 0"
      ]
    },
    {
      "cell_type": "code",
      "execution_count": null,
      "metadata": {
        "tags": [],
        "colab": {
          "base_uri": "https://localhost:8080/"
        },
        "id": "9wKmM2DjEOZk",
        "outputId": "4591fc82-4fb3-42bb-a90a-f5066bf9c2ac"
      },
      "outputs": [
        {
          "output_type": "stream",
          "name": "stdout",
          "text": [
            "[[0 1 2 3 4]\n",
            " [5 6 7 8 9]]\n",
            "[False  True  True  True  True]\n",
            "[False  True]\n",
            "False\n"
          ]
        }
      ],
      "source": [
        "# todas las funciones aceptan parametro 'axis'\n",
        "# 0 para columnas, 1 para filas, 2 para profundidad...\n",
        "array1 = np.arange(10).reshape(2,5)\n",
        "print(array1)\n",
        "print(array1.all(axis=0))\n",
        "print(array1.all(axis=1))\n",
        "print(array1.all())"
      ]
    },
    {
      "cell_type": "markdown",
      "metadata": {
        "id": "4H-WYvpzEOZl"
      },
      "source": [
        "# Álgebra lineal\n",
        "- numpy.linalg contiene funciones para álgebra lineal\n",
        "- dot product, multipliacción de matrices, cálculo del determinante, factorizaciones..."
      ]
    },
    {
      "cell_type": "markdown",
      "metadata": {
        "id": "cRjbUm73EOZl"
      },
      "source": [
        "\n",
        "| Función | Descripción |\n",
        "|:---------|:-----|\n",
        "| *dot(mat1, mat2)* | Devuelve el producto escalar entre dos arrays. Si son matrices 2D, es equivalente a la multiplicación de ambas |\n",
        "| *matmul(mat1, mat2)* | Devuelve el producto entre dos matrices |\n",
        "| *trace(mat1, mat2)* | Suma de las diagonales de ambas matrices |\n",
        "| *det(mat)* | Devuelve el determinante de la matriz |\n",
        "| *eig(mat)* | Computa los autovalores y autovectores de la matriz cuadrada *mat* |\n",
        "| *inv(mat)* | Devuelve la inversa de la matriz |\n",
        "| *qr(mat)* | Computa la factorización QR de *mat* |\n",
        "| *solve(A, b)* | Resuelve el sistema lineal de ecuaciones *Ax = b* para *b*, cuando *A* es una matriz cuadrada |"
      ]
    },
    {
      "cell_type": "code",
      "execution_count": null,
      "metadata": {
        "tags": [],
        "colab": {
          "base_uri": "https://localhost:8080/"
        },
        "id": "j1FSpbaJEOZl",
        "outputId": "82829b2c-0cf4-4145-a9b2-87270248d813"
      },
      "outputs": [
        {
          "output_type": "stream",
          "name": "stdout",
          "text": [
            "[[ 0  1  2]\n",
            " [ 3  4  5]\n",
            " [ 6  7  8]\n",
            " [ 9 10 11]]\n",
            "[[0 1]\n",
            " [2 3]\n",
            " [4 5]]\n",
            "[[10 13]\n",
            " [28 40]\n",
            " [46 67]\n",
            " [64 94]]\n",
            "[[10 13]\n",
            " [28 40]\n",
            " [46 67]\n",
            " [64 94]]\n",
            "[[10 13]\n",
            " [28 40]\n",
            " [46 67]\n",
            " [64 94]]\n"
          ]
        }
      ],
      "source": [
        "A = np.arange(12).reshape(4,3)\n",
        "B = np.arange(6).reshape(3,2)\n",
        "\n",
        "print(A)\n",
        "print(B)\n",
        "\n",
        "print(np.matmul(A,B))\n",
        "print(np.dot(A, B))\n",
        "print(A @ B)"
      ]
    },
    {
      "cell_type": "code",
      "execution_count": null,
      "metadata": {
        "tags": [],
        "colab": {
          "base_uri": "https://localhost:8080/"
        },
        "id": "8M5O1c5kEOZl",
        "outputId": "0d0a2030-f29e-4d7c-9484-0eaea79892e4"
      },
      "outputs": [
        {
          "output_type": "stream",
          "name": "stdout",
          "text": [
            "[[ 3  2  5]\n",
            " [ 1 -3 -1]\n",
            " [ 2 -1 12]]\n",
            "[12  2 32]\n",
            "x=0.7543859649122807 y=-1.2280701754385965 z=2.43859649122807\n",
            "True\n",
            "True\n",
            "True\n"
          ]
        }
      ],
      "source": [
        "import numpy.linalg as linalg\n",
        "import math\n",
        "\n",
        "# resolver sistema de ecuaciones\n",
        "# 3x + 2y + 5z = 12\n",
        "# x - 3y -z = 2\n",
        "# 2x -y +12z = 32\n",
        "# Ax = b --> resolver para x\n",
        "\n",
        "a = np.array([ [3,2,5], [1,-3,-1],[2,-1,12] ])\n",
        "b = np.array([12,2,32])\n",
        "\n",
        "print(a)\n",
        "print(b)\n",
        "x,y,z = linalg.solve(a,b)\n",
        "print(f'x={x} y={y} z={z}')\n",
        "\n",
        "print(math.isclose(3*x + 2*y +5*z, 12))\n",
        "print(math.isclose(x - 3*y - z, 2))\n",
        "print(math.isclose(2*x -y + 12*z, 32))"
      ]
    },
    {
      "cell_type": "code",
      "execution_count": null,
      "metadata": {
        "tags": [],
        "colab": {
          "base_uri": "https://localhost:8080/"
        },
        "id": "7beGgzxzEOZl",
        "outputId": "2c997b6e-08c0-4f8f-909c-6f9d2e7b30b4"
      },
      "outputs": [
        {
          "output_type": "stream",
          "name": "stdout",
          "text": [
            "[[1. 0. 0. 0.]\n",
            " [0. 1. 0. 0.]\n",
            " [0. 0. 1. 0.]\n",
            " [0. 0. 0. 1.]]\n",
            "[[ 0  1  2  3]\n",
            " [ 4  5  6  7]\n",
            " [ 8  9 10 11]\n",
            " [12 13 14 15]]\n",
            "[[ 0.  1.  2.  3.]\n",
            " [ 4.  5.  6.  7.]\n",
            " [ 8.  9. 10. 11.]\n",
            " [12. 13. 14. 15.]]\n"
          ]
        }
      ],
      "source": [
        "#matriz identidad\n",
        "I = np.identity(4)\n",
        "print(I)\n",
        "\n",
        "A = np.arange(16).reshape(4,4)\n",
        "print(A)\n",
        "\n",
        "print(np.matmul(A,I))"
      ]
    },
    {
      "cell_type": "markdown",
      "metadata": {
        "id": "QePjT3u2EOZl"
      },
      "source": [
        "# Filtrado de datos\n",
        "- Filtrar y modificar datos numéricos con np.where\n",
        "- Retorna A o B en función de una condición en una array"
      ]
    },
    {
      "cell_type": "code",
      "execution_count": null,
      "metadata": {
        "tags": [],
        "colab": {
          "base_uri": "https://localhost:8080/"
        },
        "id": "pMLsshhTEOZl",
        "outputId": "9f9a98ad-b4e2-4d52-b312-2b1bb92763f3"
      },
      "outputs": [
        {
          "output_type": "stream",
          "name": "stdout",
          "text": [
            "[ True False False False  True]\n",
            "[0.99 0.49]\n",
            "[ 1.   14.49 19.99 20.99  1.  ]\n"
          ]
        }
      ],
      "source": [
        "prices = np.array([0.99, 14.49, 19.99, 20.99, 0.49])\n",
        "# mask con los elementos menores de 1\n",
        "mask = np.where(prices < 1, True, False)# seteo el valor para los casos que se cumpla y para los casos que no se cumpla\n",
        "print(mask)\n",
        "print(prices[mask])\n",
        "\n",
        "print(np.where(prices < 1, 1.0, prices))"
      ]
    },
    {
      "cell_type": "code",
      "execution_count": null,
      "metadata": {
        "tags": [],
        "colab": {
          "base_uri": "https://localhost:8080/"
        },
        "id": "LXirKKjGEOZm",
        "outputId": "cde289e1-e2ae-492f-ff96-2976ad662d36"
      },
      "outputs": [
        {
          "output_type": "stream",
          "name": "stdout",
          "text": [
            "[[ 0.99 -1.49 19.99]\n",
            " [20.99 -0.49 12.1 ]]\n",
            "[[ 0.99  0.   19.99]\n",
            " [20.99  0.   12.1 ]]\n"
          ]
        }
      ],
      "source": [
        "# Se puede usar para sustituir datos fuera de rango\n",
        "bank_transfers_values = np.array([0.99, -1.49, 19.99, 20.99, -0.49, 12.1]).reshape(2, 3)\n",
        "print(bank_transfers_values)\n",
        "clean_data = np.where(bank_transfers_values > 0, bank_transfers_values, 0)\n",
        "print(clean_data)"
      ]
    },
    {
      "cell_type": "code",
      "execution_count": null,
      "metadata": {
        "tags": [],
        "colab": {
          "base_uri": "https://localhost:8080/"
        },
        "id": "8VnFE8_kEOZm",
        "outputId": "13df6b92-6204-4165-cea5-af2ed7cb6a84"
      },
      "outputs": [
        {
          "output_type": "stream",
          "name": "stdout",
          "text": [
            "[  10.   12. -143.    0.    1.   -3.]\n"
          ]
        }
      ],
      "source": [
        "# limpiar NaN (sustitución)\n",
        "data = [10, 12, -143, np.nan, 1, -3] # np.nan --> NotANumber, elemento especial\n",
        "data_clean = np.where(np.isnan(data), 0, data)\n",
        "print(data_clean)"
      ]
    },
    {
      "cell_type": "code",
      "execution_count": 19,
      "metadata": {
        "tags": [],
        "colab": {
          "base_uri": "https://localhost:8080/"
        },
        "id": "YlvYBM8XEOZm",
        "outputId": "b81dd59a-25fb-4d7b-f478-87fecc54f91d"
      },
      "outputs": [
        {
          "output_type": "stream",
          "name": "stdout",
          "text": [
            "[[ 0.99 -1.49 19.99]\n",
            " [20.99 -0.49 12.1 ]]\n",
            "(array([0, 0, 1, 1]), array([0, 2, 0, 2]))\n",
            "[ 0.99 19.99 20.99 12.1 ]\n",
            "[ 0.99 19.99 20.99 12.1 ]\n"
          ]
        }
      ],
      "source": [
        "# np.where puede seleccionar elementos\n",
        "bank_transfers_values = np.array([0.99, -1.49, 19.99, 20.99, -0.49, 12.1]).reshape(2, 3)\n",
        "print(bank_transfers_values)\n",
        "credits = np.where(bank_transfers_values > 0) # array de índices para los que la condición es True\n",
        "\n",
        "print(credits)\n",
        "print(bank_transfers_values[credits]) # es igual que bank_transfers_values[bank_transfers_values > 0]\n",
        "print(bank_transfers_values[bank_transfers_values > 0])"
      ]
    },
    {
      "cell_type": "code",
      "execution_count": null,
      "metadata": {
        "tags": [],
        "colab": {
          "base_uri": "https://localhost:8080/"
        },
        "id": "Rwi08uHWEOZm",
        "outputId": "045aada4-bda2-4f3a-89d4-e4782d402039"
      },
      "outputs": [
        {
          "output_type": "stream",
          "name": "stdout",
          "text": [
            "[0 1 2 3 4 5]\n",
            "[ 0 10 20 30 40 50]\n",
            "[0 0 1 6 0 2]\n",
            "[ 0  1  2 30  4 50]\n"
          ]
        }
      ],
      "source": [
        "# valor de array dependiendo del valor en array referencia\n",
        "rewards_default = np.arange(6)\n",
        "print(rewards_default)\n",
        "\n",
        "rewards_upgrade = np.arange(6) * 10\n",
        "print(rewards_upgrade)\n",
        "\n",
        "daily_points = np.array([0, 0, 1, 6, 0, 2])\n",
        "print(daily_points)\n",
        "\n",
        "final_rewards = np.where(daily_points > 1, rewards_upgrade, rewards_default)\n",
        "print(final_rewards)"
      ]
    },
    {
      "cell_type": "markdown",
      "metadata": {
        "id": "04k_VdfpEOZm"
      },
      "source": [
        "# Números aleatorios\n",
        "- Python módulo random"
      ]
    },
    {
      "cell_type": "code",
      "execution_count": 23,
      "metadata": {
        "tags": [],
        "id": "TuHhOHmEEOZm",
        "colab": {
          "base_uri": "https://localhost:8080/"
        },
        "outputId": "16d05f9d-2451-4a4e-8355-2bba0504fb48"
      },
      "outputs": [
        {
          "output_type": "stream",
          "name": "stdout",
          "text": [
            "0.6023711666243262\n",
            "4\n",
            "0.7064996422821868\n"
          ]
        }
      ],
      "source": [
        "import random\n",
        "\n",
        "print(random.random()) # número entre 0 y 1\n",
        "print(random.randint(0,5)) # integral entre dos valores\n",
        "print(random.uniform(0,5)) # real entre dos valores"
      ]
    },
    {
      "cell_type": "code",
      "execution_count": 27,
      "metadata": {
        "tags": [],
        "id": "XkAfClImEOZm",
        "colab": {
          "base_uri": "https://localhost:8080/",
          "height": 36
        },
        "outputId": "d9bcf597-941a-4de8-a8bf-e1bf5f69e748"
      },
      "outputs": [
        {
          "output_type": "execute_result",
          "data": {
            "text/plain": [
              "'Pikachu'"
            ],
            "application/vnd.google.colaboratory.intrinsic+json": {
              "type": "string"
            }
          },
          "metadata": {},
          "execution_count": 27
        }
      ],
      "source": [
        "# elegir un elemento al azar dentro de una colección\n",
        "names = ['Pikachu','Eevee','Charmander']\n",
        "random.choice(names)"
      ]
    },
    {
      "cell_type": "markdown",
      "metadata": {
        "id": "68wiDyk8EOZn"
      },
      "source": [
        "## NumPy.random\n",
        "- Generar fácilmente listas con valores aleatorios"
      ]
    },
    {
      "cell_type": "code",
      "execution_count": 28,
      "metadata": {
        "id": "dokhb4OKEOZn",
        "colab": {
          "base_uri": "https://localhost:8080/"
        },
        "outputId": "e3b34b75-2d17-4525-ffaf-046393eab52b"
      },
      "outputs": [
        {
          "output_type": "stream",
          "name": "stdout",
          "text": [
            "0.6179618743063142\n",
            "2\n",
            "[[4 2 0 2]\n",
            " [4 2 0 2]]\n"
          ]
        }
      ],
      "source": [
        "print(np.random.rand()) # número entre 0 y 1\n",
        "print(np.random.randint(0,5)) # integral entre dos valores\n",
        "print(np.random.randint(5, size=(2, 4))) # parametro 'size' para indicar las dimensiones)"
      ]
    },
    {
      "cell_type": "code",
      "execution_count": 29,
      "metadata": {
        "id": "rxfpaKbAEOZn",
        "colab": {
          "base_uri": "https://localhost:8080/"
        },
        "outputId": "7a95cbfb-0fff-4f85-f9bd-4e1d618b3065"
      },
      "outputs": [
        {
          "output_type": "stream",
          "name": "stdout",
          "text": [
            "[[ 0.65172199  1.01922689]\n",
            " [ 0.37169419  1.2932693 ]\n",
            " [-3.13094189 -0.76628228]\n",
            " [ 0.07828769  1.27179843]]\n"
          ]
        }
      ],
      "source": [
        "# array de elementos aleatorios (distribucion normal gaussiana, media 0, desviación 1)\n",
        "print(np.random.randn(4,2))"
      ]
    },
    {
      "cell_type": "code",
      "execution_count": 30,
      "metadata": {
        "id": "vKasY76qEOZn",
        "colab": {
          "base_uri": "https://localhost:8080/"
        },
        "outputId": "a572878d-b1ae-4d9e-86c3-4c046cdbd657"
      },
      "outputs": [
        {
          "output_type": "stream",
          "name": "stdout",
          "text": [
            "1\n",
            "0.3661716764249767\n",
            "[[4 4]\n",
            " [0 3]]\n"
          ]
        }
      ],
      "source": [
        "# otras distribuciones\n",
        "print(np.random.binomial(n=5, p=0.3)) # 'n' intentos, 'p' probabilidad\n",
        "print(np.random.uniform(low=0, high=10)) # distribución uniforme\n",
        "print(np.random.poisson(lam=2, size=(2,2))) # 'lam' número de ocurrencias esperadas, retornar 'size' valores"
      ]
    },
    {
      "cell_type": "markdown",
      "metadata": {
        "id": "iltBvrUpEOZn"
      },
      "source": [
        "## Random seed\n",
        "- Números pseudo-aleatorios\n",
        "- Ordenadores generan números a partir de ecuaciones\n",
        "- Basadas en un número inicial (seed)\n",
        "- Bueno para reproducibilidad de experimentos"
      ]
    },
    {
      "cell_type": "code",
      "execution_count": 31,
      "metadata": {
        "tags": [],
        "id": "DXEMTUiIEOZn",
        "colab": {
          "base_uri": "https://localhost:8080/"
        },
        "outputId": "57f836ee-b030-4d6a-d53e-dbd4f7a0353e"
      },
      "outputs": [
        {
          "output_type": "stream",
          "name": "stdout",
          "text": [
            "0.22199317108973948\n",
            "0.8707323061773764\n",
            "0.22199317108973948\n",
            "0.8707323061773764\n",
            "0.22199317108973948\n",
            "0.8707323061773764\n",
            "0.22199317108973948\n",
            "0.8707323061773764\n",
            "0.22199317108973948\n",
            "0.8707323061773764\n",
            "\n",
            "0.5488135039273248\n",
            "0.7151893663724195\n",
            "0.417022004702574\n",
            "0.7203244934421581\n",
            "0.43599490214200376\n",
            "0.025926231827891333\n",
            "0.5507979025745755\n",
            "0.7081478226181048\n",
            "0.9670298390136767\n",
            "0.5472322491757223\n"
          ]
        }
      ],
      "source": [
        "i = 5\n",
        "for _ in range(5):\n",
        "    np.random.seed(i) # misma semilla\n",
        "    print(np.random.rand())\n",
        "    print(np.random.rand())\n",
        "\n",
        "print()\n",
        "\n",
        "for i in range(5):\n",
        "    np.random.seed(i) # diferentes semillas\n",
        "    print(np.random.rand())\n",
        "    print(np.random.rand())"
      ]
    },
    {
      "cell_type": "markdown",
      "metadata": {
        "id": "ufDIAs6wEOZn"
      },
      "source": [
        "# Escritura y lectura de ndarrays a archivos\n",
        "- Para futuro acceso\n",
        "- Compartir datos con otros\n",
        "- Formato *.npy"
      ]
    },
    {
      "cell_type": "code",
      "execution_count": 33,
      "metadata": {
        "tags": [],
        "id": "Stn-sCJ6EOZn",
        "colab": {
          "base_uri": "https://localhost:8080/"
        },
        "outputId": "29ac6226-2e24-420f-c0be-fb115f09b595"
      },
      "outputs": [
        {
          "output_type": "stream",
          "name": "stdout",
          "text": [
            "[[4 2 6]\n",
            " [4 3 0]\n",
            " [7 5 5]]\n"
          ]
        }
      ],
      "source": [
        "# escribir a archivo\n",
        "import os\n",
        "ruta = os.path.join(\"o_values_array.npy\")\n",
        "\n",
        "values = np.random.randint(9, size=(3,3))\n",
        "np.save(ruta, values)\n",
        "print(values)"
      ]
    },
    {
      "cell_type": "code",
      "execution_count": 34,
      "metadata": {
        "id": "yT6lHl4EEOZo",
        "colab": {
          "base_uri": "https://localhost:8080/"
        },
        "outputId": "b57b6dbc-3eb9-4c9d-969d-5cb392f1fbc2"
      },
      "outputs": [
        {
          "output_type": "stream",
          "name": "stdout",
          "text": [
            "[[4 2 6]\n",
            " [4 3 0]\n",
            " [7 5 5]]\n"
          ]
        }
      ],
      "source": [
        "# leer de archivo\n",
        "old_values = np.load(ruta)\n",
        "print(old_values)"
      ]
    },
    {
      "cell_type": "code",
      "execution_count": 36,
      "metadata": {
        "id": "uEm4yXFdEOZo"
      },
      "outputs": [],
      "source": [
        "# escribir y cargar múltiples arrays\n",
        "ruta = os.path.join(\"o_array_group.npz\")\n",
        "\n",
        "values1 = np.random.randint(9,size=(3,3))\n",
        "values2 = np.random.randint(4,size=(2,2))\n",
        "values3 = np.random.randint(16,size=(4,4))\n",
        "np.savez(ruta,values1,values2,values3) # añade la extensión .npz"
      ]
    },
    {
      "cell_type": "code",
      "execution_count": 37,
      "metadata": {
        "id": "N0kkp48HEOZo",
        "colab": {
          "base_uri": "https://localhost:8080/"
        },
        "outputId": "cb299d4d-326a-43a7-f929-9ef9edbb586b"
      },
      "outputs": [
        {
          "output_type": "stream",
          "name": "stdout",
          "text": [
            "<class 'list'>\n",
            "[[0 1 0]\n",
            " [7 2 6]\n",
            " [3 7 8]]\n",
            "[[2 2]\n",
            " [3 1]]\n",
            "[[10  7  9  2]\n",
            " [ 7  5  3  0]\n",
            " [ 5 14 15  4]\n",
            " [11 11 11  3]]\n"
          ]
        }
      ],
      "source": [
        "# leer los archivos (retorna un diccionario con las arrays)\n",
        "npzfile = np.load(ruta)\n",
        "\n",
        "print(type(npzfile.files))\n",
        "\n",
        "for key in npzfile.files: # array.files contiene el nombre de las arrays (arr_0, arr_1...)\n",
        "    print(npzfile[key])"
      ]
    },
    {
      "cell_type": "markdown",
      "metadata": {
        "id": "ST-KZSl_EOZo"
      },
      "source": [
        "### ¿Por qué molestarse con .npy?\n",
        "- Bases de datos suelen estar en CSV o txt, que requieren lectura con streams (parsing)\n",
        "- ¿Para qué escribir los datos de nuevo?"
      ]
    },
    {
      "cell_type": "code",
      "execution_count": 51,
      "metadata": {
        "tags": [],
        "id": "T6DsoLNAEOZo"
      },
      "outputs": [],
      "source": [
        "ruta_csv = os.path.join(\"fdata.csv\")\n",
        "with open(ruta_csv,'r') as f:\n",
        "    data_str = f.read()\n",
        "data = data_str.split(',')\n",
        "data_array = np.array(data, dtype = np.int8).reshape(1000,1000)\n",
        "# print(data_array)\n",
        "\n",
        "ruta_npy = os.path.join(\"o_fdata.npy\")#Ocupa menos memoria\n",
        "np.save(ruta_npy, data_array)"
      ]
    },
    {
      "cell_type": "code",
      "execution_count": 52,
      "metadata": {
        "tags": [],
        "id": "tW6NkPgFEOZo",
        "colab": {
          "base_uri": "https://localhost:8080/"
        },
        "outputId": "3153b0df-031f-42e7-fe6f-ff35d8ad4acf"
      },
      "outputs": [
        {
          "output_type": "stream",
          "name": "stdout",
          "text": [
            "191 ms ± 39.9 ms per loop (mean ± std. dev. of 7 runs, 10 loops each)\n"
          ]
        }
      ],
      "source": [
        "%%timeit # magic function jupyter\n",
        "with open(ruta_csv,'r') as f:\n",
        "    data_str = f.read()\n",
        "data = data_str.split(',')\n",
        "data_array = np.array(data,  dtype = np.int8).reshape(1000,1000)"
      ]
    },
    {
      "cell_type": "code",
      "execution_count": 53,
      "metadata": {
        "tags": [],
        "id": "IfPSj4IvEOZo",
        "colab": {
          "base_uri": "https://localhost:8080/"
        },
        "outputId": "48c71ecf-63ff-4dda-df19-362c4432a999"
      },
      "outputs": [
        {
          "output_type": "stream",
          "name": "stdout",
          "text": [
            "404 µs ± 16.6 µs per loop (mean ± std. dev. of 7 runs, 1000 loops each)\n"
          ]
        }
      ],
      "source": [
        "%%timeit\n",
        "data = np.load(ruta_npy)"
      ]
    },
    {
      "cell_type": "code",
      "execution_count": 54,
      "metadata": {
        "tags": [],
        "id": "FIn468UuEOZo",
        "colab": {
          "base_uri": "https://localhost:8080/"
        },
        "outputId": "aabef5bf-cce7-4431-bab3-36355c52b195"
      },
      "outputs": [
        {
          "output_type": "stream",
          "name": "stdout",
          "text": [
            "253 ms ± 58.2 ms per loop (mean ± std. dev. of 7 runs, 1 loop each)\n"
          ]
        }
      ],
      "source": [
        "%%timeit # magic function jupyter\n",
        "result = np.fromfile(ruta_csv, dtype=np.int8, sep=\",\")"
      ]
    },
    {
      "cell_type": "markdown",
      "metadata": {
        "id": "9Or7qNM1EOZp"
      },
      "source": [
        "### velocidad + simplicidad vs memoria"
      ]
    },
    {
      "cell_type": "markdown",
      "metadata": {
        "id": "BX-jL5rrEOZp"
      },
      "source": [
        "## Ejercicios"
      ]
    },
    {
      "cell_type": "markdown",
      "metadata": {
        "id": "BwsW6bzoEOZp"
      },
      "source": [
        "- Ejercicios para practicar NumPy: https://github.com/rougier/numpy-100/blob/master/100_Numpy_exercises.ipynb\n",
        "- Con pistas: https://github.com/rougier/numpy-100/blob/master/100_Numpy_exercises_with_hints.md\n",
        "- Soluciones en: https://github.com/rougier/numpy-100/blob/master/100_Numpy_exercises_with_solutions.md"
      ]
    }
  ],
  "metadata": {
    "celltoolbar": "Slideshow",
    "kernelspec": {
      "display_name": "Python 3 (ipykernel)",
      "language": "python",
      "name": "python3"
    },
    "language_info": {
      "codemirror_mode": {
        "name": "ipython",
        "version": 3
      },
      "file_extension": ".py",
      "mimetype": "text/x-python",
      "name": "python",
      "nbconvert_exporter": "python",
      "pygments_lexer": "ipython3",
      "version": "3.9.13"
    },
    "colab": {
      "provenance": [],
      "include_colab_link": true
    }
  },
  "nbformat": 4,
  "nbformat_minor": 0
}